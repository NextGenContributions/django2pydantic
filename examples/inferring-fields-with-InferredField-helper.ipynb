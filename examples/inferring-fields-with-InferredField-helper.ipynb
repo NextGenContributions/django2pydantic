{
 "cells": [
  {
   "cell_type": "markdown",
   "id": "ed603d83",
   "metadata": {},
   "source": [
    "Demonstrates how to use `InferredField` helper to automatically infer Pydantic fields from single Django model fields.\n",
    "\n",
    "This is useful if you need to manually create Pydantic models or Pydantic fields from Django model field details.\n",
    "\n",
    "Especially useful for example with custom Django Ninja endpoints when setting up input values:\n",
    "```python\n",
    "from ninja import NinjaAPI\n",
    "from django2pydantic import InferredField\n",
    "from django.db.models import Model\n",
    "\n",
    "api = NinjaAPI()\n",
    "\n",
    "class MyDjangoItemModel(Model):\n",
    "    id = models.AutoField(primary_key=True, help_text=\"The unique identifier for the item\")\n",
    "    ...\n",
    "\n",
    "@api.get(\"/items/{id}\")\n",
    "def read_item(request, id: InferredField[MyDjangoItemModel.id]):\n",
    "    ...\n",
    "```\n"
   ]
  },
  {
   "cell_type": "markdown",
   "id": "2b563ec7",
   "metadata": {},
   "source": [
    "Lets proceed to the example usage of the InferredField helper. Lets first setup Django."
   ]
  },
  {
   "cell_type": "code",
   "execution_count": 6,
   "id": "d527323a",
   "metadata": {},
   "outputs": [],
   "source": [
    "# Set up the Django environment for the example\n",
    "from examples.django_setup import setup_django_environment\n",
    "\n",
    "setup_django_environment()"
   ]
  },
  {
   "cell_type": "markdown",
   "id": "f89c15d7",
   "metadata": {},
   "source": [
    "Assuming the following Django model with the `id` field as required:"
   ]
  },
  {
   "cell_type": "code",
   "execution_count": 7,
   "id": "16bba552",
   "metadata": {},
   "outputs": [
    {
     "name": "stderr",
     "output_type": "stream",
     "text": [
      "/opt/venv/lib/python3.12/site-packages/django/db/models/base.py:368: RuntimeWarning: Model 'tests.somemodel' was already registered. Reloading models is not advised as it can lead to inconsistencies, most notably with related models.\n",
      "  new_class._meta.apps.register_model(new_class._meta.app_label, new_class)\n"
     ]
    }
   ],
   "source": [
    "from typing import final\n",
    "\n",
    "from django.db import models\n",
    "\n",
    "# Defining some constants so we can assert them later\n",
    "NAME_VERBOSE=\"Name of the item\"\n",
    "DESCRIPTION_VERBOSE=\"Description of the item\"\n",
    "\n",
    "@final\n",
    "class SomeModel(models.Model):\n",
    "    id = models.AutoField(primary_key=True, null=False) # Required field here\n",
    "    name = models.CharField(max_length=100, verbose_name=NAME_VERBOSE)\n",
    "    details = models.TextField(verbose_name=\"something....\")\n",
    "\n",
    "    @final\n",
    "    class Meta:\n",
    "        app_label = \"tests\"\n"
   ]
  },
  {
   "cell_type": "markdown",
   "id": "833138e2",
   "metadata": {},
   "source": [
    "Assuming the following Pydantic model:"
   ]
  },
  {
   "cell_type": "code",
   "execution_count": 8,
   "id": "b7a17098",
   "metadata": {},
   "outputs": [],
   "source": [
    "from pydantic import BaseModel\n",
    "\n",
    "from django2pydantic import InferExcept, InferredField\n",
    "\n",
    "\n",
    "class SomeSchema(BaseModel):\n",
    "    id: InferredField[SomeModel.id]\n",
    "    name: InferredField[SomeModel.name]\n",
    "    details: InferredField[SomeModel.details, InferExcept(description=DESCRIPTION_VERBOSE)]  # Here we can use the InferExcept helper to modify the inferred field details if we want to overwrite some of the inferred values"
   ]
  },
  {
   "cell_type": "markdown",
   "id": "a051404c",
   "metadata": {},
   "source": [
    "The following schema will be produced:"
   ]
  },
  {
   "cell_type": "code",
   "execution_count": 9,
   "id": "f82bf431",
   "metadata": {},
   "outputs": [
    {
     "data": {
      "text/html": [
       "<pre style=\"white-space:pre;overflow-x:auto;line-height:normal;font-family:Menlo,'DejaVu Sans Mono',consolas,'Courier New',monospace\"><span style=\"font-weight: bold\">{</span>\n",
       "  <span style=\"color: #000080; text-decoration-color: #000080; font-weight: bold\">\"properties\"</span>: <span style=\"font-weight: bold\">{</span>\n",
       "    <span style=\"color: #000080; text-decoration-color: #000080; font-weight: bold\">\"id\"</span>: <span style=\"font-weight: bold\">{</span>\n",
       "      <span style=\"color: #000080; text-decoration-color: #000080; font-weight: bold\">\"description\"</span>: <span style=\"color: #008000; text-decoration-color: #008000\">\"id\"</span>,\n",
       "      <span style=\"color: #000080; text-decoration-color: #000080; font-weight: bold\">\"maximum\"</span>: <span style=\"color: #008080; text-decoration-color: #008080; font-weight: bold\">9223372036854775807</span>,\n",
       "      <span style=\"color: #000080; text-decoration-color: #000080; font-weight: bold\">\"minimum\"</span>: <span style=\"color: #008080; text-decoration-color: #008080; font-weight: bold\">-9223372036854775808</span>,\n",
       "      <span style=\"color: #000080; text-decoration-color: #000080; font-weight: bold\">\"title\"</span>: <span style=\"color: #008000; text-decoration-color: #008000\">\"id\"</span>,\n",
       "      <span style=\"color: #000080; text-decoration-color: #000080; font-weight: bold\">\"type\"</span>: <span style=\"color: #008000; text-decoration-color: #008000\">\"integer\"</span>\n",
       "    <span style=\"font-weight: bold\">}</span>,\n",
       "    <span style=\"color: #000080; text-decoration-color: #000080; font-weight: bold\">\"name\"</span>: <span style=\"font-weight: bold\">{</span>\n",
       "      <span style=\"color: #000080; text-decoration-color: #000080; font-weight: bold\">\"description\"</span>: <span style=\"color: #008000; text-decoration-color: #008000\">\"Name of the item\"</span>,\n",
       "      <span style=\"color: #000080; text-decoration-color: #000080; font-weight: bold\">\"maxLength\"</span>: <span style=\"color: #008080; text-decoration-color: #008080; font-weight: bold\">100</span>,\n",
       "      <span style=\"color: #000080; text-decoration-color: #000080; font-weight: bold\">\"minLength\"</span>: <span style=\"color: #008080; text-decoration-color: #008080; font-weight: bold\">1</span>,\n",
       "      <span style=\"color: #000080; text-decoration-color: #000080; font-weight: bold\">\"title\"</span>: <span style=\"color: #008000; text-decoration-color: #008000\">\"Name of the item\"</span>,\n",
       "      <span style=\"color: #000080; text-decoration-color: #000080; font-weight: bold\">\"type\"</span>: <span style=\"color: #008000; text-decoration-color: #008000\">\"string\"</span>\n",
       "    <span style=\"font-weight: bold\">}</span>,\n",
       "    <span style=\"color: #000080; text-decoration-color: #000080; font-weight: bold\">\"details\"</span>: <span style=\"font-weight: bold\">{</span>\n",
       "      <span style=\"color: #000080; text-decoration-color: #000080; font-weight: bold\">\"description\"</span>: <span style=\"color: #008000; text-decoration-color: #008000\">\"Description of the item\"</span>,\n",
       "      <span style=\"color: #000080; text-decoration-color: #000080; font-weight: bold\">\"minLength\"</span>: <span style=\"color: #008080; text-decoration-color: #008080; font-weight: bold\">1</span>,\n",
       "      <span style=\"color: #000080; text-decoration-color: #000080; font-weight: bold\">\"title\"</span>: <span style=\"color: #008000; text-decoration-color: #008000\">\"something....\"</span>,\n",
       "      <span style=\"color: #000080; text-decoration-color: #000080; font-weight: bold\">\"type\"</span>: <span style=\"color: #008000; text-decoration-color: #008000\">\"string\"</span>\n",
       "    <span style=\"font-weight: bold\">}</span>\n",
       "  <span style=\"font-weight: bold\">}</span>,\n",
       "  <span style=\"color: #000080; text-decoration-color: #000080; font-weight: bold\">\"required\"</span>: <span style=\"font-weight: bold\">[</span>\n",
       "    <span style=\"color: #008000; text-decoration-color: #008000\">\"id\"</span>,\n",
       "    <span style=\"color: #008000; text-decoration-color: #008000\">\"name\"</span>,\n",
       "    <span style=\"color: #008000; text-decoration-color: #008000\">\"details\"</span>\n",
       "  <span style=\"font-weight: bold\">]</span>,\n",
       "  <span style=\"color: #000080; text-decoration-color: #000080; font-weight: bold\">\"title\"</span>: <span style=\"color: #008000; text-decoration-color: #008000\">\"SomeSchema\"</span>,\n",
       "  <span style=\"color: #000080; text-decoration-color: #000080; font-weight: bold\">\"type\"</span>: <span style=\"color: #008000; text-decoration-color: #008000\">\"object\"</span>\n",
       "<span style=\"font-weight: bold\">}</span>\n",
       "</pre>\n"
      ],
      "text/plain": [
       "\u001b[1m{\u001b[0m\n",
       "  \u001b[1;34m\"properties\"\u001b[0m: \u001b[1m{\u001b[0m\n",
       "    \u001b[1;34m\"id\"\u001b[0m: \u001b[1m{\u001b[0m\n",
       "      \u001b[1;34m\"description\"\u001b[0m: \u001b[32m\"id\"\u001b[0m,\n",
       "      \u001b[1;34m\"maximum\"\u001b[0m: \u001b[1;36m9223372036854775807\u001b[0m,\n",
       "      \u001b[1;34m\"minimum\"\u001b[0m: \u001b[1;36m-9223372036854775808\u001b[0m,\n",
       "      \u001b[1;34m\"title\"\u001b[0m: \u001b[32m\"id\"\u001b[0m,\n",
       "      \u001b[1;34m\"type\"\u001b[0m: \u001b[32m\"integer\"\u001b[0m\n",
       "    \u001b[1m}\u001b[0m,\n",
       "    \u001b[1;34m\"name\"\u001b[0m: \u001b[1m{\u001b[0m\n",
       "      \u001b[1;34m\"description\"\u001b[0m: \u001b[32m\"Name of the item\"\u001b[0m,\n",
       "      \u001b[1;34m\"maxLength\"\u001b[0m: \u001b[1;36m100\u001b[0m,\n",
       "      \u001b[1;34m\"minLength\"\u001b[0m: \u001b[1;36m1\u001b[0m,\n",
       "      \u001b[1;34m\"title\"\u001b[0m: \u001b[32m\"Name of the item\"\u001b[0m,\n",
       "      \u001b[1;34m\"type\"\u001b[0m: \u001b[32m\"string\"\u001b[0m\n",
       "    \u001b[1m}\u001b[0m,\n",
       "    \u001b[1;34m\"details\"\u001b[0m: \u001b[1m{\u001b[0m\n",
       "      \u001b[1;34m\"description\"\u001b[0m: \u001b[32m\"Description of the item\"\u001b[0m,\n",
       "      \u001b[1;34m\"minLength\"\u001b[0m: \u001b[1;36m1\u001b[0m,\n",
       "      \u001b[1;34m\"title\"\u001b[0m: \u001b[32m\"something....\"\u001b[0m,\n",
       "      \u001b[1;34m\"type\"\u001b[0m: \u001b[32m\"string\"\u001b[0m\n",
       "    \u001b[1m}\u001b[0m\n",
       "  \u001b[1m}\u001b[0m,\n",
       "  \u001b[1;34m\"required\"\u001b[0m: \u001b[1m[\u001b[0m\n",
       "    \u001b[32m\"id\"\u001b[0m,\n",
       "    \u001b[32m\"name\"\u001b[0m,\n",
       "    \u001b[32m\"details\"\u001b[0m\n",
       "  \u001b[1m]\u001b[0m,\n",
       "  \u001b[1;34m\"title\"\u001b[0m: \u001b[32m\"SomeSchema\"\u001b[0m,\n",
       "  \u001b[1;34m\"type\"\u001b[0m: \u001b[32m\"object\"\u001b[0m\n",
       "\u001b[1m}\u001b[0m\n"
      ]
     },
     "metadata": {},
     "output_type": "display_data"
    }
   ],
   "source": [
    "from rich import print_json\n",
    "\n",
    "schema = SomeSchema.model_json_schema()\n",
    "print_json(data=schema)\n"
   ]
  },
  {
   "cell_type": "markdown",
   "id": "4d85e29a",
   "metadata": {},
   "source": [
    "As a sanity check, lets now do some asserts to check the generated schema is as intended:"
   ]
  },
  {
   "cell_type": "code",
   "execution_count": 10,
   "id": "7678fb96",
   "metadata": {},
   "outputs": [],
   "source": [
    "assert schema[\"properties\"][\"id\"][\"type\"] == \"integer\"\n",
    "assert schema[\"properties\"][\"name\"][\"type\"] == \"string\"\n",
    "assert schema[\"properties\"][\"details\"][\"type\"] == \"string\"\n",
    "assert schema[\"properties\"][\"name\"][\"description\"] == NAME_VERBOSE\n",
    "assert schema[\"properties\"][\"details\"][\"description\"] == DESCRIPTION_VERBOSE\n"
   ]
  }
 ],
 "metadata": {
  "kernelspec": {
   "display_name": "app (3.12.11)",
   "language": "python",
   "name": "python3"
  },
  "language_info": {
   "codemirror_mode": {
    "name": "ipython",
    "version": 3
   },
   "file_extension": ".py",
   "mimetype": "text/x-python",
   "name": "python",
   "nbconvert_exporter": "python",
   "pygments_lexer": "ipython3",
   "version": "3.12.11"
  }
 },
 "nbformat": 4,
 "nbformat_minor": 5
}
