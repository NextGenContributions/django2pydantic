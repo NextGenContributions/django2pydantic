{
 "cells": [
  {
   "cell_type": "markdown",
   "id": "ed603d83",
   "metadata": {},
   "source": [
    "Demonstrates the usage of InferExcept for overriding the inferred schema properties."
   ]
  },
  {
   "cell_type": "code",
   "execution_count": 31,
   "id": "d527323a",
   "metadata": {},
   "outputs": [],
   "source": [
    "# Set up the Django environment for the example\n",
    "from examples.django_setup import setup_django_environment\n",
    "\n",
    "setup_django_environment()"
   ]
  },
  {
   "cell_type": "markdown",
   "id": "f89c15d7",
   "metadata": {},
   "source": [
    "Assuming the following Django model:"
   ]
  },
  {
   "cell_type": "code",
   "execution_count": 32,
   "id": "16bba552",
   "metadata": {},
   "outputs": [],
   "source": [
    "from typing import final\n",
    "\n",
    "from django.db import models\n",
    "\n",
    "\n",
    "@final\n",
    "class SomeRelatedModel(models.Model):\n",
    "    base_field = models.CharField(max_length=100, help_text=\"Other Name\")\n",
    "\n",
    "    @final\n",
    "    class Meta:\n",
    "        app_label = \"tests\"\n",
    "\n",
    "@final\n",
    "class SomeModel(models.Model):\n",
    "    id = models.AutoField(primary_key=True)\n",
    "    some_field = models.CharField(max_length=100, help_text=\"Name\")\n",
    "    related_field = models.ForeignKey(SomeRelatedModel, on_delete=models.CASCADE, verbose_name=\"Verbose\")\n",
    "\n",
    "    @final\n",
    "    class Meta:\n",
    "        app_label = \"tests\"\n"
   ]
  },
  {
   "cell_type": "markdown",
   "id": "833138e2",
   "metadata": {},
   "source": [
    "Assuming the following Pydantic model:"
   ]
  },
  {
   "cell_type": "code",
   "execution_count": 33,
   "id": "b7a17098",
   "metadata": {},
   "outputs": [],
   "source": [
    "from django2pydantic import BaseSchema, InferExcept, SchemaConfig\n",
    "from django2pydantic.types import Infer\n",
    "\n",
    "CUSTOM_TITLE = \"Custom Title\"\n",
    "CUSTOM_DESCRIPTION = \"Overridden Name\"\n",
    "CUSTOM_SCHEMA_EXT= \"x-ngc-extension\"\n",
    "CUSTOM_SCHEMA_VALUE = \"ngc\"\n",
    "\n",
    "class SomeSchema(BaseSchema[SomeModel]):\n",
    "    \"\"\"Book schema example with nested fields.\"\"\"\n",
    "\n",
    "    config = SchemaConfig[SomeModel](\n",
    "        model=SomeModel,\n",
    "        fields={\n",
    "            \"id\": Infer,\n",
    "            \"some_field\": InferExcept(\n",
    "                description=CUSTOM_DESCRIPTION,\n",
    "                title=CUSTOM_TITLE\n",
    "                ),\n",
    "            \"related_field\": InferExcept(\n",
    "                json_schema_extra={CUSTOM_SCHEMA_EXT: CUSTOM_SCHEMA_VALUE}\n",
    "            ),\n",
    "\n",
    "        }\n",
    "    )"
   ]
  },
  {
   "cell_type": "markdown",
   "id": "a051404c",
   "metadata": {},
   "source": [
    "The following schema will be produced:"
   ]
  },
  {
   "cell_type": "code",
   "execution_count": 34,
   "id": "f82bf431",
   "metadata": {},
   "outputs": [
    {
     "data": {
      "text/html": [
       "<pre style=\"white-space:pre;overflow-x:auto;line-height:normal;font-family:Menlo,'DejaVu Sans Mono',consolas,'Courier New',monospace\"><span style=\"font-weight: bold\">{</span>\n",
       "  <span style=\"color: #000080; text-decoration-color: #000080; font-weight: bold\">\"properties\"</span>: <span style=\"font-weight: bold\">{</span>\n",
       "    <span style=\"color: #000080; text-decoration-color: #000080; font-weight: bold\">\"id\"</span>: <span style=\"font-weight: bold\">{</span>\n",
       "      <span style=\"color: #000080; text-decoration-color: #000080; font-weight: bold\">\"description\"</span>: <span style=\"color: #008000; text-decoration-color: #008000\">\"id\"</span>,\n",
       "      <span style=\"color: #000080; text-decoration-color: #000080; font-weight: bold\">\"maximum\"</span>: <span style=\"color: #008080; text-decoration-color: #008080; font-weight: bold\">9223372036854775807</span>,\n",
       "      <span style=\"color: #000080; text-decoration-color: #000080; font-weight: bold\">\"minimum\"</span>: <span style=\"color: #008080; text-decoration-color: #008080; font-weight: bold\">-9223372036854775808</span>,\n",
       "      <span style=\"color: #000080; text-decoration-color: #000080; font-weight: bold\">\"title\"</span>: <span style=\"color: #008000; text-decoration-color: #008000\">\"id\"</span>,\n",
       "      <span style=\"color: #000080; text-decoration-color: #000080; font-weight: bold\">\"type\"</span>: <span style=\"color: #008000; text-decoration-color: #008000\">\"integer\"</span>\n",
       "    <span style=\"font-weight: bold\">}</span>,\n",
       "    <span style=\"color: #000080; text-decoration-color: #000080; font-weight: bold\">\"some_field\"</span>: <span style=\"font-weight: bold\">{</span>\n",
       "      <span style=\"color: #000080; text-decoration-color: #000080; font-weight: bold\">\"description\"</span>: <span style=\"color: #008000; text-decoration-color: #008000\">\"Overridden Name\"</span>,\n",
       "      <span style=\"color: #000080; text-decoration-color: #000080; font-weight: bold\">\"maxLength\"</span>: <span style=\"color: #008080; text-decoration-color: #008080; font-weight: bold\">100</span>,\n",
       "      <span style=\"color: #000080; text-decoration-color: #000080; font-weight: bold\">\"minLength\"</span>: <span style=\"color: #008080; text-decoration-color: #008080; font-weight: bold\">1</span>,\n",
       "      <span style=\"color: #000080; text-decoration-color: #000080; font-weight: bold\">\"title\"</span>: <span style=\"color: #008000; text-decoration-color: #008000\">\"Custom Title\"</span>,\n",
       "      <span style=\"color: #000080; text-decoration-color: #000080; font-weight: bold\">\"type\"</span>: <span style=\"color: #008000; text-decoration-color: #008000\">\"string\"</span>\n",
       "    <span style=\"font-weight: bold\">}</span>,\n",
       "    <span style=\"color: #000080; text-decoration-color: #000080; font-weight: bold\">\"related_field\"</span>: <span style=\"font-weight: bold\">{</span>\n",
       "      <span style=\"color: #000080; text-decoration-color: #000080; font-weight: bold\">\"description\"</span>: <span style=\"color: #008000; text-decoration-color: #008000\">\"Verbose\"</span>,\n",
       "      <span style=\"color: #000080; text-decoration-color: #000080; font-weight: bold\">\"title\"</span>: <span style=\"color: #008000; text-decoration-color: #008000\">\"Verbose\"</span>,\n",
       "      <span style=\"color: #000080; text-decoration-color: #000080; font-weight: bold\">\"type\"</span>: <span style=\"color: #008000; text-decoration-color: #008000\">\"integer\"</span>,\n",
       "      <span style=\"color: #000080; text-decoration-color: #000080; font-weight: bold\">\"x-ngc-extension\"</span>: <span style=\"color: #008000; text-decoration-color: #008000\">\"ngc\"</span>\n",
       "    <span style=\"font-weight: bold\">}</span>\n",
       "  <span style=\"font-weight: bold\">}</span>,\n",
       "  <span style=\"color: #000080; text-decoration-color: #000080; font-weight: bold\">\"required\"</span>: <span style=\"font-weight: bold\">[</span>\n",
       "    <span style=\"color: #008000; text-decoration-color: #008000\">\"id\"</span>,\n",
       "    <span style=\"color: #008000; text-decoration-color: #008000\">\"some_field\"</span>,\n",
       "    <span style=\"color: #008000; text-decoration-color: #008000\">\"related_field\"</span>\n",
       "  <span style=\"font-weight: bold\">]</span>,\n",
       "  <span style=\"color: #000080; text-decoration-color: #000080; font-weight: bold\">\"title\"</span>: <span style=\"color: #008000; text-decoration-color: #008000\">\"SomeModelSchema\"</span>,\n",
       "  <span style=\"color: #000080; text-decoration-color: #000080; font-weight: bold\">\"type\"</span>: <span style=\"color: #008000; text-decoration-color: #008000\">\"object\"</span>\n",
       "<span style=\"font-weight: bold\">}</span>\n",
       "</pre>\n"
      ],
      "text/plain": [
       "\u001b[1m{\u001b[0m\n",
       "  \u001b[1;34m\"properties\"\u001b[0m: \u001b[1m{\u001b[0m\n",
       "    \u001b[1;34m\"id\"\u001b[0m: \u001b[1m{\u001b[0m\n",
       "      \u001b[1;34m\"description\"\u001b[0m: \u001b[32m\"id\"\u001b[0m,\n",
       "      \u001b[1;34m\"maximum\"\u001b[0m: \u001b[1;36m9223372036854775807\u001b[0m,\n",
       "      \u001b[1;34m\"minimum\"\u001b[0m: \u001b[1;36m-9223372036854775808\u001b[0m,\n",
       "      \u001b[1;34m\"title\"\u001b[0m: \u001b[32m\"id\"\u001b[0m,\n",
       "      \u001b[1;34m\"type\"\u001b[0m: \u001b[32m\"integer\"\u001b[0m\n",
       "    \u001b[1m}\u001b[0m,\n",
       "    \u001b[1;34m\"some_field\"\u001b[0m: \u001b[1m{\u001b[0m\n",
       "      \u001b[1;34m\"description\"\u001b[0m: \u001b[32m\"Overridden Name\"\u001b[0m,\n",
       "      \u001b[1;34m\"maxLength\"\u001b[0m: \u001b[1;36m100\u001b[0m,\n",
       "      \u001b[1;34m\"minLength\"\u001b[0m: \u001b[1;36m1\u001b[0m,\n",
       "      \u001b[1;34m\"title\"\u001b[0m: \u001b[32m\"Custom Title\"\u001b[0m,\n",
       "      \u001b[1;34m\"type\"\u001b[0m: \u001b[32m\"string\"\u001b[0m\n",
       "    \u001b[1m}\u001b[0m,\n",
       "    \u001b[1;34m\"related_field\"\u001b[0m: \u001b[1m{\u001b[0m\n",
       "      \u001b[1;34m\"description\"\u001b[0m: \u001b[32m\"Verbose\"\u001b[0m,\n",
       "      \u001b[1;34m\"title\"\u001b[0m: \u001b[32m\"Verbose\"\u001b[0m,\n",
       "      \u001b[1;34m\"type\"\u001b[0m: \u001b[32m\"integer\"\u001b[0m,\n",
       "      \u001b[1;34m\"x-ngc-extension\"\u001b[0m: \u001b[32m\"ngc\"\u001b[0m\n",
       "    \u001b[1m}\u001b[0m\n",
       "  \u001b[1m}\u001b[0m,\n",
       "  \u001b[1;34m\"required\"\u001b[0m: \u001b[1m[\u001b[0m\n",
       "    \u001b[32m\"id\"\u001b[0m,\n",
       "    \u001b[32m\"some_field\"\u001b[0m,\n",
       "    \u001b[32m\"related_field\"\u001b[0m\n",
       "  \u001b[1m]\u001b[0m,\n",
       "  \u001b[1;34m\"title\"\u001b[0m: \u001b[32m\"SomeModelSchema\"\u001b[0m,\n",
       "  \u001b[1;34m\"type\"\u001b[0m: \u001b[32m\"object\"\u001b[0m\n",
       "\u001b[1m}\u001b[0m\n"
      ]
     },
     "metadata": {},
     "output_type": "display_data"
    }
   ],
   "source": [
    "from rich import print_json\n",
    "\n",
    "print_json(data=SomeSchema.model_json_schema())"
   ]
  },
  {
   "cell_type": "markdown",
   "id": "4d85e29a",
   "metadata": {},
   "source": [
    "And as we can assert the InferExcept behavior, the generated schema will reflect the overridden properties as specified in the Pydantic model."
   ]
  },
  {
   "cell_type": "code",
   "execution_count": 35,
   "id": "7678fb96",
   "metadata": {},
   "outputs": [],
   "source": [
    "schema = SomeSchema.model_json_schema()\n",
    "# Assert the title is as expected\n",
    "assert schema[\"properties\"][\"some_field\"][\"title\"] == CUSTOM_TITLE\n",
    "\n",
    "# Assert the description is as expected\n",
    "assert schema[\"properties\"][\"some_field\"][\"description\"] == CUSTOM_DESCRIPTION\n",
    "\n",
    "# Assert the json_schema_extra is as expected\n",
    "assert schema[\"properties\"][\"related_field\"][CUSTOM_SCHEMA_EXT] == CUSTOM_SCHEMA_VALUE"
   ]
  }
 ],
 "metadata": {
  "kernelspec": {
   "display_name": "app (3.12.11)",
   "language": "python",
   "name": "python3"
  },
  "language_info": {
   "codemirror_mode": {
    "name": "ipython",
    "version": 3
   },
   "file_extension": ".py",
   "mimetype": "text/x-python",
   "name": "python",
   "nbconvert_exporter": "python",
   "pygments_lexer": "ipython3",
   "version": "3.12.11"
  }
 },
 "nbformat": 4,
 "nbformat_minor": 5
}
