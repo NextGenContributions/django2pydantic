{
    "cells": [
        {
            "cell_type": "markdown",
            "id": "ed603d83",
            "metadata": {},
            "source": [
                "Demonstrates how to make a required Django field optional (not required) with using `InferExcept`."
            ]
        },
        {
            "cell_type": "code",
            "execution_count": null,
            "id": "d527323a",
            "metadata": {},
            "outputs": [],
            "source": [
                "# Set up the Django environment for the example\n",
                "from examples.django_setup import setup_django_environment\n",
                "\n",
                "setup_django_environment()"
            ]
        },
        {
            "cell_type": "markdown",
            "id": "f89c15d7",
            "metadata": {},
            "source": [
                "Assuming the following Django model with the `id` field as required:"
            ]
        },
        {
            "cell_type": "code",
            "execution_count": null,
            "id": "16bba552",
            "metadata": {},
            "outputs": [],
            "source": [
                "from typing import final\n",
                "\n",
                "from django.db import models\n",
                "\n",
                "\n",
                "@final\n",
                "class SomeModel(models.Model):\n",
                "    id = models.AutoField(primary_key=True, null=False) # Required field here\n",
                "    name = models.CharField(max_length=100)\n",
                "\n",
                "    class Meta:\n",
                "        app_label = \"examples\"\n"
            ]
        },
        {
            "cell_type": "markdown",
            "id": "833138e2",
            "metadata": {},
            "source": [
                "Assuming the following Pydantic model:"
            ]
        },
        {
            "cell_type": "code",
            "execution_count": null,
            "id": "b7a17098",
            "metadata": {},
            "outputs": [],
            "source": [
                "from django2pydantic import BaseSchema, Infer, InferExcept, SchemaConfig\n",
                "\n",
                "\n",
                "class SomeSchema(BaseSchema[SomeModel]):\n",
                "\n",
                "    config: SchemaConfig[SomeModel] = SchemaConfig(\n",
                "        model=SomeModel,\n",
                "        fields= {\n",
                "            \"id\": InferExcept(default=None), # Lets make the id field optional\n",
                "            \"name\": Infer,\n",
                "        }\n",
                "    )"
            ]
        },
        {
            "cell_type": "markdown",
            "id": "a051404c",
            "metadata": {},
            "source": [
                "The following schema will be produced:"
            ]
        },
        {
            "cell_type": "code",
            "execution_count": null,
            "id": "f82bf431",
            "metadata": {},
            "outputs": [],
            "source": [
                "from rich import print_json\n",
                "\n",
                "print_json(data=SomeSchema.model_json_schema())\n",
                "\n",
                "# Assert id is not required in the schema\n",
                "assert \"id\" not in SomeSchema.model_json_schema().get(\"required\", [])"
            ]
        },
        {
            "cell_type": "markdown",
            "id": "4d85e29a",
            "metadata": {},
            "source": [
                "Lets now validate with some test data without the optional field to see it works:"
            ]
        },
        {
            "cell_type": "code",
            "execution_count": null,
            "id": "7678fb96",
            "metadata": {},
            "outputs": [],
            "source": [
                "# Some test data without the `id` field:\n",
                "test_data = {\n",
                "    # no `id` here\n",
                "    \"name\": \"foo\"\n",
                "}\n",
                "\n",
                "# Now let's validate the data\n",
                "SomeModel = SomeSchema.model_validate(test_data)\n",
                "\n",
                "assert SomeModel\n",
                "assert SomeModel.name == test_data[\"name\"]  # type: ignore[reportUnknownMemberType]\n",
                "assert SomeModel.id is None # type: ignore[reportUnknownMemberType]\n",
                "\n",
                "print(\"Passed validation.\")\n"
            ]
        }
    ],
    "metadata": {
        "kernelspec": {
            "display_name": "app (3.12.11)",
            "language": "python",
            "name": "python3"
        },
        "language_info": {
            "codemirror_mode": {
                "name": "ipython",
                "version": 3
            },
            "file_extension": ".py",
            "mimetype": "text/x-python",
            "name": "python",
            "nbconvert_exporter": "python",
            "pygments_lexer": "ipython3",
            "version": "3.12.11"
        }
    },
    "nbformat": 4,
    "nbformat_minor": 5
}
